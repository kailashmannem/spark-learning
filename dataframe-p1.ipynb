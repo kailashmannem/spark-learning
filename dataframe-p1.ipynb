{
 "cells": [
  {
   "cell_type": "code",
   "execution_count": 1,
   "id": "884e2c8c",
   "metadata": {},
   "outputs": [],
   "source": [
    "from pyspark.sql import SparkSession\n",
    "spark = SparkSession.builder.appName(\"DataFrame\").getOrCreate()"
   ]
  },
  {
   "cell_type": "code",
   "execution_count": 5,
   "id": "efe1b05e",
   "metadata": {},
   "outputs": [],
   "source": [
    "df_spark = spark.read.option(\"header\", \"true\").csv(\"sample_data.csv\",inferSchema=True)"
   ]
  },
  {
   "cell_type": "code",
   "execution_count": 6,
   "id": "aaead293",
   "metadata": {},
   "outputs": [
    {
     "name": "stdout",
     "output_type": "stream",
     "text": [
      "root\n",
      " |-- id: integer (nullable = true)\n",
      " |-- name: string (nullable = true)\n",
      " |-- age: integer (nullable = true)\n",
      " |-- city: string (nullable = true)\n",
      "\n"
     ]
    }
   ],
   "source": [
    "df_spark.printSchema()"
   ]
  },
  {
   "cell_type": "code",
   "execution_count": 7,
   "id": "d6aeb35b",
   "metadata": {},
   "outputs": [],
   "source": [
    "# Another way\n",
    "df_spark = spark.read.csv(\"sample_data.csv\", header=True, inferSchema=True)"
   ]
  },
  {
   "cell_type": "code",
   "execution_count": 8,
   "id": "34518563",
   "metadata": {},
   "outputs": [
    {
     "name": "stdout",
     "output_type": "stream",
     "text": [
      "+---+-------+---+-----------+\n",
      "| id|   name|age|       city|\n",
      "+---+-------+---+-----------+\n",
      "|  1|  Alice| 30|   New York|\n",
      "|  2|    Bob| 25|Los Angeles|\n",
      "|  3|Charlie| 35|    Chicago|\n",
      "|  4|  David| 28|    Houston|\n",
      "|  5|    Eva| 32|    Phoenix|\n",
      "+---+-------+---+-----------+\n",
      "\n"
     ]
    }
   ],
   "source": [
    "df_spark.show()"
   ]
  },
  {
   "cell_type": "code",
   "execution_count": 9,
   "id": "42f19195",
   "metadata": {},
   "outputs": [
    {
     "data": {
      "text/plain": [
       "['id', 'name', 'age', 'city']"
      ]
     },
     "execution_count": 9,
     "metadata": {},
     "output_type": "execute_result"
    }
   ],
   "source": [
    "df_spark.columns"
   ]
  },
  {
   "cell_type": "code",
   "execution_count": 12,
   "id": "5e8839eb",
   "metadata": {},
   "outputs": [
    {
     "name": "stdout",
     "output_type": "stream",
     "text": [
      "+-------+-----------+\n",
      "|   name|       city|\n",
      "+-------+-----------+\n",
      "|  Alice|   New York|\n",
      "|    Bob|Los Angeles|\n",
      "|Charlie|    Chicago|\n",
      "|  David|    Houston|\n",
      "|    Eva|    Phoenix|\n",
      "+-------+-----------+\n",
      "\n"
     ]
    }
   ],
   "source": [
    "df_spark.select([\"name\", \"city\"]).show()"
   ]
  },
  {
   "cell_type": "code",
   "execution_count": null,
   "id": "9ab76396",
   "metadata": {},
   "outputs": [
    {
     "data": {
      "text/plain": [
       "Column<'name'>"
      ]
     },
     "execution_count": 13,
     "metadata": {},
     "output_type": "execute_result"
    }
   ],
   "source": [
    "df_spark['name'] # Just show but can't view data"
   ]
  },
  {
   "cell_type": "code",
   "execution_count": 14,
   "id": "65e7b1c1",
   "metadata": {},
   "outputs": [
    {
     "data": {
      "text/plain": [
       "[('id', 'int'), ('name', 'string'), ('age', 'int'), ('city', 'string')]"
      ]
     },
     "execution_count": 14,
     "metadata": {},
     "output_type": "execute_result"
    }
   ],
   "source": [
    "df_spark.dtypes"
   ]
  },
  {
   "cell_type": "code",
   "execution_count": 16,
   "id": "c711b899",
   "metadata": {},
   "outputs": [
    {
     "name": "stdout",
     "output_type": "stream",
     "text": [
      "+-------+------------------+-----+------------------+-------+\n",
      "|summary|                id| name|               age|   city|\n",
      "+-------+------------------+-----+------------------+-------+\n",
      "|  count|                 5|    5|                 5|      5|\n",
      "|   mean|               3.0| null|              30.0|   null|\n",
      "| stddev|1.5811388300841898| null|3.8078865529319543|   null|\n",
      "|    min|                 1|Alice|                25|Chicago|\n",
      "|    max|                 5|  Eva|                35|Phoenix|\n",
      "+-------+------------------+-----+------------------+-------+\n",
      "\n"
     ]
    }
   ],
   "source": [
    "df_spark.describe().show()"
   ]
  },
  {
   "cell_type": "code",
   "execution_count": 18,
   "id": "8b81aea3",
   "metadata": {},
   "outputs": [
    {
     "name": "stdout",
     "output_type": "stream",
     "text": [
      "+---+-------+---+-----------+------------------+\n",
      "| id|   name|age|       city|Age after 10 years|\n",
      "+---+-------+---+-----------+------------------+\n",
      "|  1|  Alice| 30|   New York|                40|\n",
      "|  2|    Bob| 25|Los Angeles|                35|\n",
      "|  3|Charlie| 35|    Chicago|                45|\n",
      "|  4|  David| 28|    Houston|                38|\n",
      "|  5|    Eva| 32|    Phoenix|                42|\n",
      "+---+-------+---+-----------+------------------+\n",
      "\n"
     ]
    }
   ],
   "source": [
    "# To add columns\n",
    "df_spark.withColumn(\"Age after 10 years\", df_spark['age'] + 10).show()"
   ]
  },
  {
   "cell_type": "code",
   "execution_count": null,
   "id": "9b658efb",
   "metadata": {},
   "outputs": [],
   "source": []
  }
 ],
 "metadata": {
  "kernelspec": {
   "display_name": "sparkEnv (3.12.0)",
   "language": "python",
   "name": "python3"
  },
  "language_info": {
   "codemirror_mode": {
    "name": "ipython",
    "version": 3
   },
   "file_extension": ".py",
   "mimetype": "text/x-python",
   "name": "python",
   "nbconvert_exporter": "python",
   "pygments_lexer": "ipython3",
   "version": "3.12.0"
  }
 },
 "nbformat": 4,
 "nbformat_minor": 5
}
